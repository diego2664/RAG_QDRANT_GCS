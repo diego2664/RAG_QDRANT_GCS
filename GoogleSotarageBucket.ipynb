{
 "cells": [
  {
   "cell_type": "code",
   "execution_count": 29,
   "metadata": {},
   "outputs": [
    {
     "data": {
      "text/plain": [
       "True"
      ]
     },
     "execution_count": 29,
     "metadata": {},
     "output_type": "execute_result"
    }
   ],
   "source": [
    "import pandas as pd\n",
    "from gcs_utils import get_file_info, upload_to_gcs, delete_file_from_gcs, rename_file_in_gcs, download_file_from_gcs, GCS_BUCKET_NAME\n",
    "import os\n",
    "import dotenv\n",
    "\n",
    "dotenv.load_dotenv()\n"
   ]
  },
  {
   "cell_type": "code",
   "execution_count": 30,
   "metadata": {},
   "outputs": [],
   "source": [
    "# Get file information\n",
    "files = get_file_info(GCS_BUCKET_NAME)\n",
    "\n",
    "# Convert file information to DataFrame\n",
    "df = pd.DataFrame(files)"
   ]
  },
  {
   "cell_type": "code",
   "execution_count": 31,
   "metadata": {},
   "outputs": [
    {
     "name": "stdout",
     "output_type": "stream",
     "text": [
      "                                                name      size pages\n",
      "0                                 99745 - ACCENTURE/         0   N/A\n",
      "1  99745 - ACCENTURE/1. LATAM One Pack - Contrato...  11097221   302\n",
      "2             Oferta Comercial Citrix LATAM 2023.pdf   2266218     9\n"
     ]
    }
   ],
   "source": [
    "print(df)"
   ]
  },
  {
   "cell_type": "code",
   "execution_count": 32,
   "metadata": {},
   "outputs": [
    {
     "name": "stdout",
     "output_type": "stream",
     "text": [
      "Lista de nombres de archivos:\n",
      "['99745 - ACCENTURE/1. LATAM One Pack - Contrato Firmado Completo.pdf', 'Oferta Comercial Citrix LATAM 2023.pdf']\n"
     ]
    }
   ],
   "source": [
    "# Filtrar los nombres que no terminan con \"/\"\n",
    "df_filtered = df[~df['name'].str.endswith('/')]\n",
    "\n",
    "# Obtener solo los nombres como una lista\n",
    "nombres_archivos = df_filtered['name'].tolist()\n",
    "\n",
    "print(\"Lista de nombres de archivos:\")\n",
    "print(nombres_archivos)\n"
   ]
  },
  {
   "cell_type": "code",
   "execution_count": null,
   "metadata": {},
   "outputs": [],
   "source": [
    "from langchain_google_community import GCSFileLoader\n",
    "\n",
    "from langchain_community.document_loaders import PyPDFLoader\n",
    "\n",
    "\n",
    "def load_pdf(file_path):\n",
    "    return PyPDFLoader(file_path)\n",
    "\n",
    "\n",
    "loader = GCSFileLoader(\n",
    "    project_name=os.getenv(\"GCP_PROJECT_NAME\"), bucket=os.getenv(\"GCS_BUCKET_NAME\") , blob=\"99745 - ACCENTURE/1. LATAM One Pack - Contrato Firmado Completo.pdf\", loader_func=load_pdf)\n",
    "\n",
    "print(loader)\n"
   ]
  },
  {
   "cell_type": "code",
   "execution_count": null,
   "metadata": {},
   "outputs": [],
   "source": [
    "loader.load()"
   ]
  },
  {
   "cell_type": "code",
   "execution_count": null,
   "metadata": {},
   "outputs": [],
   "source": [
    "from langchain.text_splitter import RecursiveCharacterTextSplitter\n",
    "\n",
    "# Cargar el documento\n",
    "documento = loader.load()\n",
    "\n",
    "# Crear el divisor de texto\n",
    "text_splitter = RecursiveCharacterTextSplitter(\n",
    "    chunk_size=1000,\n",
    "    chunk_overlap=200,\n",
    "    length_function=len,\n",
    ")\n",
    "\n",
    "# Dividir el documento en chunks\n",
    "chunks = text_splitter.split_documents(documento)\n",
    "\n",
    "print(f\"El documento se ha dividido en {len(chunks)} chunks.\")\n",
    "\n",
    "# Imprimir los primeros 5 chunks como ejemplo\n",
    "print(\"\\nPrimeros 5 chunks:\")\n",
    "for i, chunk in enumerate(chunks[:5], 1):\n",
    "    print(f\"\\nChunk {i}:\")\n",
    "    print(chunk.page_content[:150] + \"...\")  # Mostrar los primeros 150 caracteres de cada chunk\n"
   ]
  },
  {
   "cell_type": "code",
   "execution_count": null,
   "metadata": {},
   "outputs": [],
   "source": [
    "# Imprimir los atributos de un chunk de ejemplo\n",
    "print(\"\\nAtributos de un chunk:\")\n",
    "if chunks:\n",
    "    ejemplo_chunk = chunks[0]\n",
    "    print(\"1. page_content\")\n",
    "    print(\"2. metadata\")\n",
    "    print(\"Otros atributos:\")\n",
    "    for attr in dir(ejemplo_chunk):\n",
    "        if not attr.startswith('_') and attr not in ['page_content', 'metadata']:\n",
    "            print(f\"3. {attr}\")\n",
    "else:\n",
    "    print(\"No hay chunks disponibles para analizar.\")"
   ]
  },
  {
   "cell_type": "code",
   "execution_count": null,
   "metadata": {},
   "outputs": [],
   "source": []
  }
 ],
 "metadata": {
  "kernelspec": {
   "display_name": "venv",
   "language": "python",
   "name": "python3"
  },
  "language_info": {
   "codemirror_mode": {
    "name": "ipython",
    "version": 3
   },
   "file_extension": ".py",
   "mimetype": "text/x-python",
   "name": "python",
   "nbconvert_exporter": "python",
   "pygments_lexer": "ipython3",
   "version": "3.10.0"
  }
 },
 "nbformat": 4,
 "nbformat_minor": 2
}
