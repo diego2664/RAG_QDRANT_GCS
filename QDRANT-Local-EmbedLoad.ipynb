{
 "cells": [
  {
   "cell_type": "code",
   "execution_count": 32,
   "metadata": {},
   "outputs": [],
   "source": [
    "# import the necessary libraries and set up the environment\n",
    "import dotenv\n",
    "import os\n",
    "from qdrant_client import QdrantClient\n",
    "from langchain_qdrant import QdrantVectorStore\n",
    "from langchain_openai import OpenAIEmbeddings\n",
    "from langchain.vectorstores import Qdrant\n",
    "\n",
    "dotenv.load_dotenv()\n",
    "local_data_directory = \"./TO_EMBED\" "
   ]
  },
  {
   "cell_type": "code",
   "execution_count": 21,
   "metadata": {},
   "outputs": [
    {
     "name": "stdout",
     "output_type": "stream",
     "text": [
      "collections=[CollectionDescription(name='Contratos_Embeds'), CollectionDescription(name='LOCAL_TEST_OPENAI_EMBEDS'), CollectionDescription(name='Contratos_OPENAI_EMBEDS'), CollectionDescription(name='NEW_TEST_COLLECTION')]\n"
     ]
    }
   ],
   "source": [
    "# initialize the client and print the collections | set openai embeddings\n",
    "\n",
    "#\n",
    "qdrant_client = QdrantClient(\n",
    "    url=os.getenv(\"QDRANT_URL\"), \n",
    "    api_key=os.getenv(\"QDRANT_API_KEY\"),\n",
    ")\n",
    "\n",
    "print(qdrant_client.get_collections())\n",
    "\n",
    "embeddings = OpenAIEmbeddings()\n"
   ]
  },
  {
   "cell_type": "code",
   "execution_count": 22,
   "metadata": {},
   "outputs": [
    {
     "name": "stdout",
     "output_type": "stream",
     "text": [
      "La colección 'LOCAL_TEST_OPENAI_EMBEDS' ya existe.\n"
     ]
    }
   ],
   "source": [
    "# check if the collection exists and create it if it doesn't\n",
    "\n",
    "def check_and_create_collection():\n",
    "    collection_name = os.getenv(\"QDRANT_COLLECTION_NAME_2\")\n",
    "    collections = qdrant_client.get_collections()\n",
    "    \n",
    "    if not any(collection.name == collection_name for collection in collections.collections):\n",
    "        print(f\"La colección '{collection_name}' no existe. Creándola...\")\n",
    "        qdrant_client.create_collection(\n",
    "            collection_name=collection_name,\n",
    "            vectors_config={\n",
    "                \"size\": 1536,  # Tamaño de los embeddings de OpenAI\n",
    "                \"distance\": \"Cosine\"\n",
    "            }\n",
    "        )\n",
    "        print(f\"Colección '{collection_name}' creada exitosamente.\")\n",
    "    else:\n",
    "        print(f\"La colección '{collection_name}' ya existe.\")\n",
    "\n",
    "# Llamar a la función para verificar y crear la colección si es necesario\n",
    "check_and_create_collection()\n"
   ]
  },
  {
   "cell_type": "code",
   "execution_count": 29,
   "metadata": {},
   "outputs": [
    {
     "name": "stdout",
     "output_type": "stream",
     "text": [
      "LOCAL_TEST_OPENAI_EMBEDS\n"
     ]
    }
   ],
   "source": [
    "# Initialize the vector store\n",
    "vectorstore = Qdrant(\n",
    "    client=qdrant_client,\n",
    "    collection_name=os.getenv(\"QDRANT_COLLECTION_NAME_2\"),\n",
    "    embeddings=embeddings\n",
    ")\n",
    "print(os.getenv(\"QDRANT_COLLECTION_NAME_2\"))\n"
   ]
  },
  {
   "cell_type": "code",
   "execution_count": 36,
   "metadata": {},
   "outputs": [],
   "source": [
    "import os\n",
    "from langchain.document_loaders import DirectoryLoader, PyPDFLoader, Docx2txtLoader, TextLoader\n",
    "from langchain.text_splitter import CharacterTextSplitter\n",
    "from langchain.schema import Document\n",
    "\n",
    "def load_and_chunk_documents(local_data_directory):\n",
    "    # Definir los cargadores para diferentes tipos de archivos\n",
    "    loaders = {\n",
    "        \".pdf\": (PyPDFLoader, {}),\n",
    "        \".docx\": (Docx2txtLoader, {}),\n",
    "        \".doc\": (Docx2txtLoader, {}),\n",
    "        \".txt\": (TextLoader, {\"encoding\": \"utf8\"}),\n",
    "    }\n",
    "    \n",
    "    # Cargar documentos\n",
    "    documents = []\n",
    "    for root, _, files in os.walk(local_data_directory):\n",
    "        for file in files:\n",
    "            file_path = os.path.join(root, file)\n",
    "            file_extension = os.path.splitext(file)[1].lower()\n",
    "            if file_extension in loaders:\n",
    "                loader_class, loader_args = loaders[file_extension]\n",
    "                loader = loader_class(file_path, **loader_args)\n",
    "                documents.extend(loader.load())\n",
    "    \n",
    "    # Crear el divisor de texto\n",
    "    text_splitter = CharacterTextSplitter(\n",
    "        separator=\"\\n\",\n",
    "        chunk_size=1000,\n",
    "        chunk_overlap=200,\n",
    "        length_function=len\n",
    "    )\n",
    "    \n",
    "    chunked_documents = []\n",
    "    \n",
    "    for doc in documents:\n",
    "        chunks = text_splitter.split_text(doc.page_content)\n",
    "        for i, chunk in enumerate(chunks):\n",
    "            # Crear un ID único\n",
    "            doc_path = os.path.relpath(doc.metadata['source'], local_data_directory)\n",
    "            page_num = doc.metadata.get('page', 1)  # Asume página 1 si no está especificado\n",
    "            chunk_id = f\"{doc_path}_p{page_num}_c{i+1}\"\n",
    "            \n",
    "            # Crear un nuevo Document con el ID en los metadatos\n",
    "            chunked_doc = Document(\n",
    "                page_content=chunk,\n",
    "                metadata={\n",
    "                    **doc.metadata,\n",
    "                    'chunk_id': chunk_id,\n",
    "                    'chunk_number': i+1\n",
    "                }\n",
    "            )\n",
    "            chunked_documents.append(chunked_doc)\n",
    "    \n",
    "    return chunked_documents\n",
    "\n",
    "# Uso de la función\n",
    "chunked_docs = load_and_chunk_documents(local_data_directory)\n",
    "\n",
    "# Añadir los documentos chunkeados a Qdrant\n",
    "#vectorstore.add_documents(chunked_docs)\n",
    "\n"
   ]
  },
  {
   "cell_type": "code",
   "execution_count": 38,
   "metadata": {},
   "outputs": [
    {
     "data": {
      "text/plain": [
       "['bfae06a802e243bb955dd3fa210c8b23',\n",
       " '995a2d6d4aca4bc8bd96bf5aca881a1f',\n",
       " '4c9243cd0e0d46f2872eb8f90623b5c8',\n",
       " '85a66f728d874e2a8c5ed5c5a21c54e0',\n",
       " 'a37e580a4e1e4400b80c54c7cd23e85d',\n",
       " '08a10fec24a142dda5a9f9a87adb44fe',\n",
       " 'a176ebb41b8c41ad8a0f6c9a3f839e71',\n",
       " 'd820ca3faee34d90a547892c98aaf470',\n",
       " '0cc1d8bc5e25422badfe8bbcd787c6b5',\n",
       " '795406d9c4ef41c58cf7d7c7f5c9d513',\n",
       " '8c202d6444394ad7840849f210af0203',\n",
       " '68db8c0a8c6d41e683cab9b9cdea76e1',\n",
       " 'cbf3dabde0aa4c439cefa4e879013c78',\n",
       " 'b931f6ada6da4506b301f7de2eb54c51',\n",
       " '582e098211e34d8897483276a2b55bb7',\n",
       " '873f447b5d7743eba8ed54c673327000',\n",
       " '99c1682ddd354da8aa534cff570e7a1b',\n",
       " '5c4a291b6b944d568f274ea9405fb3d2',\n",
       " '73932fb8217745b4af40bb849d096685',\n",
       " 'f798d303ca1a4d11882e4b8d6202fe47',\n",
       " '9915824abb2e436baf02a9cd4a6d1d58',\n",
       " 'd023da30b0e04e2fbf59ddb150d219b1',\n",
       " '62e71fdf4bea46bba9f34ec2421acc2f',\n",
       " '56c7cfbbdcd1437ba5f51b3e9eaf428d',\n",
       " 'db97714bc5074af3bf9a1aeea10ec6d6',\n",
       " '67a011c96bf844e6aa66bfb65835a27f',\n",
       " '04176fbebb21449f9d2f700229c0d0dc',\n",
       " '2ab526fc48b84edfa8b399b3084ca6e6',\n",
       " '4f19c1cfbe794173b1dd2531d2589782',\n",
       " '36b53db5defa4310ad401adfddca1353',\n",
       " '591beea92cf441498b29d0e258c4bac8',\n",
       " 'd01b8f04b4f94d77bf2efd608923fbc2',\n",
       " 'c1e9e36138a6429a9a71d047aba86c85',\n",
       " '6993d160ee7c42a19a2ac9ee201034bf',\n",
       " 'e86f356a88214e5f8375c8d4c64968ef',\n",
       " 'a0cc010b83114bb0bce2c86cbcac6ec5',\n",
       " 'f7bf812f73d44f6b811a2ab59feba9dc',\n",
       " 'dffeb09b629b4eceb905aece3ec4d5b3']"
      ]
     },
     "execution_count": 38,
     "metadata": {},
     "output_type": "execute_result"
    }
   ],
   "source": [
    "vectorstore.add_documents(chunked_docs)\n"
   ]
  },
  {
   "cell_type": "code",
   "execution_count": 37,
   "metadata": {},
   "outputs": [
    {
     "name": "stdout",
     "output_type": "stream",
     "text": [
      "[Document(metadata={'source': './TO_EMBED\\\\monopoly.pdf', 'page': 0, 'chunk_id': 'monopoly.pdf_p0_c1', 'chunk_number': 1}, page_content='MONOPOLY \\nProperty Trading Game from Parker Brothers\" \\nAGES 8+ \\n2 to 8 Players \\nContents: Gameboard, 3 dice, tokens, 32 houses, I2 hotels, Chance \\nand Community Chest cards, Title Deed cards, play money and a Banker\\'s tray. \\nNow there\\'s a faster way to play MONOPOLY. Choose to play by \\nthe classic rules for buying, renting and selling properties or use the \\nSpeed Die to get into the action faster. If you\\'ve never played the classic \\nMONOPOLY game, refer to the Classic Rules beginning on the next page. \\nIf you already know how to play and want to use the Speed Die, just \\nread the section below for the additional Speed Die rules. \\nSPEED DIE RULES \\nLearnins how to Play with the S~eed Die IS as \\n/ \\nfast as playing with i\\'t. \\n1. When starting the game, hand out an extra $1,000 to each player \\n(two $5005 should work). The game moves fast and you\\'ll need \\nthe extra cash to buy and build. \\n2. Do not use the Speed Die until you\\'ve landed on or passed over'), Document(metadata={'source': './TO_EMBED\\\\monopoly.pdf', 'page': 0, 'chunk_id': 'monopoly.pdf_p0_c2', 'chunk_number': 2}, page_content=\"(two $5005 should work). The game moves fast and you'll need \\nthe extra cash to buy and build. \\n2. Do not use the Speed Die until you've landed on or passed over \\nGO for the first time. Once you collect that first $200 salary, you'll \\nuse the Speed Die for the rest of the game. This means that some \\nplayers will start using the die before others. \\n3. Once you start using the Speed Die, roll it along with the two \\nwhite dice on your turn. Then do the following depending on \\nwhat you rolled. \\n1, 2, or 3: Add this number to the roll of the two white \\ndice. You'll zoom around the board.\"), Document(metadata={'source': './TO_EMBED\\\\monopoly.pdf', 'page': 1, 'chunk_id': 'monopoly.pdf_p1_c1', 'chunk_number': 1}, page_content='Bus: This lets you \"get off the bus early.\" Look at the two white \\ndice. You can move the value of one die, the other die, or the \\nsum of both dice. So if you rolled a 1 and a 5, you can move \\n1 space, 5 spaces, or 6 spaces: \\\\t\\'s your choice. \\nMr. Monopoly: First, move the sum of the two white dice \\nand resolve the space you land on (such as drawing a card, \\nbuying the property, paying rent, etc.). Then, one of two \\nthings will happen depending on whether or not there is still \\nproperty in the bank. \\nYES, there is property in the bank -Advance to the NEXT \\nproperty that the bank still holds and buy it if you wish. If you \\ndon\\'t want to buy this property, move to the space anyway \\nand put the property up for auction. \\nNO, there are no more properties in the bank - Advance to the \\nNOCT property on which you will owe another player money. \\nA few minor details: \\nOnly the white dice are used when determining if you rolled doubles. \\nDo not look at the Speed Die.'), Document(metadata={'source': './TO_EMBED\\\\monopoly.pdf', 'page': 1, 'chunk_id': 'monopoly.pdf_p1_c2', 'chunk_number': 2}, page_content='NOCT property on which you will owe another player money. \\nA few minor details: \\nOnly the white dice are used when determining if you rolled doubles. \\nDo not look at the Speed Die. \\nIf you roll a three-of-a-kind (all of the dice show the same number), \\nyou can move anywhere you want on the board! \\nIf you get sent to jail during your move (either by landing on the \"Go \\nto Jail\" space or by rolling doubles three times in a row) then your turn \\nis over and you do not get to use the Speed Die for that turn. \\nUse the white dice ONLY when rolling to get out of jail. \\nL \\nUse the sum of all three dice when determining how much to pay on \\na utility. Note: The Bus and Mr. Monopoly are valued at 0. \\nCLASSIC MONOPOW RULES \\nOBJECT: The object of the game IS to become the \\nwealthiest player through buying, renting and selling \\nproperty. \\nPREPARATION: Place the board on a table and put \\nthe Chance and Community Chest cards facedown on'), Document(metadata={'source': './TO_EMBED\\\\monopoly.pdf', 'page': 1, 'chunk_id': 'monopoly.pdf_p1_c3', 'chunk_number': 3}, page_content='wealthiest player through buying, renting and selling \\nproperty. \\nPREPARATION: Place the board on a table and put \\nthe Chance and Community Chest cards facedown on \\ntheir allotted spaces on the board. Each player chooses one token to \\nrepresent himther while traveling around the board.'), Document(metadata={'source': './TO_EMBED\\\\monopoly.pdf', 'page': 2, 'chunk_id': 'monopoly.pdf_p2_c1', 'chunk_number': 1}, page_content=\"Each player is given $1,500 divided as follows: P each of $500s, \\n$100~ and $50~; 6 $40~; 5 each of $105, $5~ and $Is. \\nAll remaining money and other equipment go to the Bank. Stack the .. \\nBank's money on edge in the compartments in the plastic Banker's tray. \\nBANKER. Select as Banker a player who will also \\nmake a good Auctioneer A Banker who plays \\n~n the game must keep hislher personal funds \\nseparate from those of the Bank. When more than \\nf~ve persons play, the Banker may elect to act only \\nas Banker and Auctioneer. \\nTHE BANK: Besides the Bank's money, the Bank \\nholds the Title Deed cards and houses and hotels prior to purchase \\nand use by the players. The Bank pays salaries and bonuses. It sells \\nand auctions properties and hands out the~r proper Title Deed cards; \\nit sells houses and hotels to the players and loans money when \\nrequired on mortgages. \\nThe Bank collects all taxes, fines, loans and interest, and the price of \\nall properties which it sells and auctions.\"), Document(metadata={'source': './TO_EMBED\\\\monopoly.pdf', 'page': 2, 'chunk_id': 'monopoly.pdf_p2_c2', 'chunk_number': 2}, page_content='required on mortgages. \\nThe Bank collects all taxes, fines, loans and interest, and the price of \\nall properties which it sells and auctions. \\nThe Bank nwer \"goes broke.\" If the Bank runs out of money, the Banker \\nmay issue as much more as needed by writing on any ordinary paper. \\nTHE PLAY: Starting with the Banker, each player in turn throws the dice. \\nThe player with the highest total starts the play: Place your \\ntoken on the corner marked \"GO,\" throw the dice and move \\nyour token in the direction of the arrow the number of \\nspaces indicated by the dice. After you have completed \\nyour play, the turn passes to the left. The tokens remain \\non the spaces qccupied and proceed from that point on \\nthe player\\'s next turn. Two or more tokens may rest on the \\nsame space at the same time. \\nAccording to the space your token reaches, you may be entitled to \\nbuy real estate or other properties - or obliged to pay rent, pay taxes, \\ndraw a Chance or Community Chest card, \"Go to Jail,\" etc.'), Document(metadata={'source': './TO_EMBED\\\\monopoly.pdf', 'page': 2, 'chunk_id': 'monopoly.pdf_p2_c3', 'chunk_number': 3}, page_content='According to the space your token reaches, you may be entitled to \\nbuy real estate or other properties - or obliged to pay rent, pay taxes, \\ndraw a Chance or Community Chest card, \"Go to Jail,\" etc. \\nIf you throw doubles, you move your token as usual, the sum of the \\ntwo dice, and are subject to any privileges or penalties pertaining to \\nthe space on which you land. Retaining the dice, throw again and move \\nyour token as before. If you throw doubles three times in succession, \\nmove your token immediately to the space marked \"In Jail\" (see JAIL).'), Document(metadata={'source': './TO_EMBED\\\\monopoly.pdf', 'page': 3, 'chunk_id': 'monopoly.pdf_p3_c1', 'chunk_number': 1}, page_content='\"GO\": Each time a player\\'s token lands on or passes over \\nGO, whether by throwing the dice or drawing a card, \\nthe Banker pays himther a $200 sala,ry. \\nThe $200 is paid only once each time kound \\nthe board. However, if a player passing GO on \\nthe throw of the dice lands 2 spaces beyond it \\non Community Chest, or 7 spaces beyond \\nit on Chance, and draws the \"Advance to GO\" card, helshe collects \\n$200 for passing GO the first time and another $200 for reaching it the \\nsecond time by instructions on the card. \\nBUYING PROPERTY: Whenever you land on an unowned property you \\nmay buy that property from the Bank at its printed price. You receive the \\nTitle Deed card showing ownership; place it faceup in front of you. \\nIf you do not wish to buy the property, the Banker sells it at auction \\nto the highest bidder. The buyer pays the Bank the amount of the bid \\nin cash and receives the Title Deed card for that property. Any player,'), Document(metadata={'source': './TO_EMBED\\\\monopoly.pdf', 'page': 3, 'chunk_id': 'monopoly.pdf_p3_c2', 'chunk_number': 2}, page_content='to the highest bidder. The buyer pays the Bank the amount of the bid \\nin cash and receives the Title Deed card for that property. Any player, \\nincluding the one who declined the option to buy it at the printed \\nprice, may bid. Bidding may start at any price. \\nPAMNG \\n When you land on property owned by another player, \\nthe owner collects rent from you in accordance with the list printed on \\nits Title Deed card. \\nIf the property is mortgaged, no rent can be collected. When a \\nproperty is mortgaged, its Title Deed card is placed facedown in front \\nof the owner. \\nL \\nIt is an advantage to hold all the Title Deed cards in a color- \\ngroup (e.g., Boardwalk and Park Place; or Connecticut, Vermont and \\nOriental Avenues) because the owner may then charge double rent \\nfor unimproved properties in that color-group. This rule applies to \\nunmortgaged properties even if another property in that color-group is \\nmortgaged. \\nIt is even more advantageous to have houses or hotels on properties'), Document(metadata={'source': './TO_EMBED\\\\monopoly.pdf', 'page': 3, 'chunk_id': 'monopoly.pdf_p3_c3', 'chunk_number': 3}, page_content='unmortgaged properties even if another property in that color-group is \\nmortgaged. \\nIt is even more advantageous to have houses or hotels on properties \\nbecause rents are much higher than for unimproved properties. \\nThe owner may not collect the rent if he/she fails to ask for it before \\nthe second player following throws the dice. \\n\"CHANCE\" AND \"COMMUNITY CHEST\": When you land on either of \\nthese spaces, take the top card from the deck indicated, follow the'), Document(metadata={'source': './TO_EMBED\\\\monopoly.pdf', 'page': 4, 'chunk_id': 'monopoly.pdf_p4_c1', 'chunk_number': 1}, page_content='instructions and return the card facedown to the bottom of the deck. \\nThe \"Get Out of Jail Free\" card is held until used and then returned to \\nthe bottom of the deck. If the player who draws it does not wish to use \\nit, helshe may sell it, at any time, to another player at a price agreeable \\nto both. \\n\"INCOME TAX\": If you land here you have two options: You may \\nestimate your tax at $900 and pay the Bank, or you may pay 10% of \\nyour total worth to the Bank. Your total worth is all your cash on hand, \\nprinted prices of mortgaged and unmortgaged properties and cost \\nprice of all buildings you own. \\nYou must decide which option you will take before you add up \\nyour total worth. \\n\"JAIL\": You land in Jail when. ..(I) your token lands on the space \\nmarked \"Go to Jail\"; (2) you draw a card marked \"Go to JailN; or \\n(3) you throw doubles three times in succession. \\nWhen you are sent to Jail you cannot \\ncollect your $200 salary in that move \\nsince, regardless of where your token'), Document(metadata={'source': './TO_EMBED\\\\monopoly.pdf', 'page': 4, 'chunk_id': 'monopoly.pdf_p4_c2', 'chunk_number': 2}, page_content='(3) you throw doubles three times in succession. \\nWhen you are sent to Jail you cannot \\ncollect your $200 salary in that move \\nsince, regardless of where your token \\nis on the board, you must move it \\ndirectly into Jail. Your turn ends when \\nyou are sent to Jail. \\nIf you are not \"sent\" to Jail but in the ordinary course of play land on \\nthat space, you are \"Just Visiting,\" you incur no penalty, and you move \\nahead in the usual manner on your next turn. \\nYou get out of Jail by.. .(I) throwing doubles on any of your next \\nthree turns; if you succeed in doing this you immediately move forward \\nthe number of spaces shown by your doubles throw; even though you \\nhad thrown doubles, you do not take another turn; (2) using the \"Get \\nOut of Jail Free\" card if you have it; (3) purchasing the \"Get Out of Jail \\nFree\" card from another player and playing it; (4) paying a fine of $50 \\nbefore you roll the dice on either of your next two turns.'), Document(metadata={'source': './TO_EMBED\\\\monopoly.pdf', 'page': 4, 'chunk_id': 'monopoly.pdf_p4_c3', 'chunk_number': 3}, page_content='Free\" card from another player and playing it; (4) paying a fine of $50 \\nbefore you roll the dice on either of your next two turns. \\nIf you do not throw doubles by your third turn, you must pay the $50 \\nfine. You then get out of Jail and immediately move forward the number \\nof spaces shown by your throw. \\nEven though you are in Jail, you may buy and sell property, buy and \\nsell houses and hotels and collect rents.'), Document(metadata={'source': './TO_EMBED\\\\monopoly.pdf', 'page': 5, 'chunk_id': 'monopoly.pdf_p5_c1', 'chunk_number': 1}, page_content='\"FREE PARKING\": A player landing on this place does not \\nreceive any money, property or reward of any kind. This is just a \"free\" \\nresting place. \\nHOUSES: When you own all the propert~es in a color-group \\nyou may buy houses from the Bank and erect them on those properties. \\nIf you buy one house, you may put it on any \\none of those properties. The next house you \\nbuy must be erected on one of the unimproved \\nproperties of this or any other complete color- \\ngroup you may own. \\nThe price you must pay the Bank for each \\nhouse is shown on your ltle Deed card for the \\nproperty on which you erect the house. \\nThe owner still collects double rent from an opponent who lands on \\nthe unimproved properties of hisher complete color-group. \\nFollowing the above rules, you may buy and erect at any time as \\nmany houses as your judgement and financial standing will allow. But \\nyou must build evenly, i.e., you cannot erect more than one house on'), Document(metadata={'source': './TO_EMBED\\\\monopoly.pdf', 'page': 5, 'chunk_id': 'monopoly.pdf_p5_c2', 'chunk_number': 2}, page_content='many houses as your judgement and financial standing will allow. But \\nyou must build evenly, i.e., you cannot erect more than one house on \\nany one property of any color-group until you have built one house on \\nwery property of that group. You may then begin on the second row \\nof houses, and so on, up to a limit of four houses to a property. For \\nexample, you cannot build three houses on one property if you have \\nonly one house on another property of that group. \\nAs you build evenly, you must also break down evenly ifyou sell \\nhouses back to the Bank (see SELLING PROPERTY). \\nHOTELS: When a player has four houses on each property of a \\ncomplete color-group, hdshe may buy a hotel from the Bank and erect \\nit on any property of the color-group. Hdshe returns the four houses \\nfrom that property to the Bank and pays the price for the hotel as shown \\non the Ttle Deed card. Only one hotel may be erected on any one \\nproperty. \\nBUILDING SHORTAGES: When the Bank has no houses to sell, players'), Document(metadata={'source': './TO_EMBED\\\\monopoly.pdf', 'page': 5, 'chunk_id': 'monopoly.pdf_p5_c3', 'chunk_number': 3}, page_content='on the Ttle Deed card. Only one hotel may be erected on any one \\nproperty. \\nBUILDING SHORTAGES: When the Bank has no houses to sell, players \\nwishing to build must wait for some player to return or sell histher \\nhouses to the Bank before building. If there are a limited number of \\nhouses and hotels available and two or more players wish to buy more \\nthan the Bank has, the houses or hotels must be sold at auction to the \\nhighest bidder.'), Document(metadata={'source': './TO_EMBED\\\\monopoly.pdf', 'page': 6, 'chunk_id': 'monopoly.pdf_p6_c1', 'chunk_number': 1}, page_content='SELLING PROPERN: Unimproved properties, railroads and util~ties \\n(but not buildings) may be sold to any player as a private transaction \\nfor any amount the owner can get; however, no property can be sold to \\n- \\nanother player if buildings are standing on any properties of that color- \\ngroup. Any buildings so located must be sold back to the Bank before \\nthe owner can sell any property of that color-group. \\nHouses and hotels may be sold back to the Bank at any time for one- \\nhalf the price paid for them. \\nAll houses on one color-group must be sold one by one, evenly, in \\nreverse of the manner in which they were erected. \\nAll hotels on one color-group may be sold at once, or they may be \\nsold one house at a time (one hotel equals five houses), evenly, in \\nreverse of the manner in which they were erected. \\nMORTGAGES: Unimproved properties can be mortgaged through the \\nBank at any time. Before an improved property can be mortgaged, all'), Document(metadata={'source': './TO_EMBED\\\\monopoly.pdf', 'page': 6, 'chunk_id': 'monopoly.pdf_p6_c2', 'chunk_number': 2}, page_content='reverse of the manner in which they were erected. \\nMORTGAGES: Unimproved properties can be mortgaged through the \\nBank at any time. Before an improved property can be mortgaged, all \\nthe buildings on all the properties of its color-group must be sold back \\nto the Bank at half price. The mortgage value is printed on each Title \\nDeed card. \\nNo rent can be collected on mortgaged properties or utilities, \\nbut rent can be collected on unmortgaged properties in the \\nsame group. \\nIn order to lift the mortgage, the owner must pay the Bank the \\namount of the mortgage plus 10% interest. When all the propert~es of \\na color-group are no longer mortgaged, the owner may begin to buy \\nback houses at full price. \\nThe player who mortgages property retains possession of it and \\nno other player may secure it by lifting the mortgage from the Bank. \\nHowever, the owner may sell this mortgaged property to another player \\nat any agreed price. If you are the new owner, you may lift the mortgage'), Document(metadata={'source': './TO_EMBED\\\\monopoly.pdf', 'page': 6, 'chunk_id': 'monopoly.pdf_p6_c3', 'chunk_number': 3}, page_content='However, the owner may sell this mortgaged property to another player \\nat any agreed price. If you are the new owner, you may lift the mortgage \\nat once if you wish by paying off the mortgage plus \\n10% interest to the Bank. If the mortgage is not lifted \\nat once, you must pay the Bank 10% interest when \\nyou buy the property and if you lift the \\nmortgage later you must pay the Bank \\nan additional 10% interest as well \\nas the amount of the mortgage. \\nn'), Document(metadata={'source': './TO_EMBED\\\\monopoly.pdf', 'page': 7, 'chunk_id': 'monopoly.pdf_p7_c1', 'chunk_number': 1}, page_content='BANKRUPTCY.. You are declared bankrupt if you owe more than you \\ncan pay either to another player or to the Bank. If your \\n , \\ndebt is to another player, you must tum over to that \\nplayer all that you have of value and retire from the \\ngame. In making this settlement, if you own houses or \\nhotels, you must retum these to the Bank in exchange \\nfor money to the extent of one-half the amount paid \\nfor them; this cash is given to the creditor. If you have \\nmortgaged property you also turn this property over \\nto your creditor but the new owner must at once pay . \\nthe Bank the amount of interest on the loan, which is 10% of the value of \\nthe property. The new owner who does this may then, at hislher option, \\npay the principal or hold the property until some later turn, then lift the \\nmortgage. If helshe holds property in this way until a later turn, helshe \\nmust pay the interest again upon lifting the mortgage. \\nShould you owe the Bank, instead of another player, more than you'), Document(metadata={'source': './TO_EMBED\\\\monopoly.pdf', 'page': 7, 'chunk_id': 'monopoly.pdf_p7_c2', 'chunk_number': 2}, page_content='mortgage. If helshe holds property in this way until a later turn, helshe \\nmust pay the interest again upon lifting the mortgage. \\nShould you owe the Bank, instead of another player, more than you \\ncan pay (because of taxes or penalties) even by selling off buildings \\nand mortgaging property, you must turn over all assets to the Bank. In \\nthis case, the Bank immediately sells by auction all property so taken, \\nexcept buildings. A bankrupt player must immediately retire from the \\ngame. The last player left in the game wins. \\nMISCEUANEOUS: Money can be loaned to a player only by the Bank \\nand then only by mortgaging property. No player may borrow from or \\nlend money to another player. \\nL \\nWe will be happy to hear your questions or comments about this game. Write to: Hasbro \\nGames, Consumer Affairs Dept., P.O. Box 200, Pawtucket, RI 02862. Tel: 888-836-7025 \\n(toll free). Canadian consumers please write to: Hasbro Canada Corporation, 2350 de la \\nProvince, Longueuil, QC Canada, J4G 1G2.'), Document(metadata={'source': './TO_EMBED\\\\monopoly.pdf', 'page': 7, 'chunk_id': 'monopoly.pdf_p7_c3', 'chunk_number': 3}, page_content='(toll free). Canadian consumers please write to: Hasbro Canada Corporation, 2350 de la \\nProvince, Longueuil, QC Canada, J4G 1G2. \\nThe HASBRO, PARKER BROTHERS, and MONOPOLY names and logos, the distinctive design of \\nthe gameboard, the four comer squares, the MR. MONOPOLY name and character, and each of the \\ndistinctive elements of the board and rules are trademarks of Hasbro for its property trading game \\nand game equipment. 02004,2007 Hasbro, Pawtucket, RI 02862. \\nAll Rights Reserved. TM & @3 denote U.S. Trademarks. \\n00009-1 \\nPROOF OF PURCHASE I'), Document(metadata={'source': './TO_EMBED\\\\ticket_to_ride.pdf', 'page': 0, 'chunk_id': 'ticket_to_ride.pdf_p0_c1', 'chunk_number': 1}, page_content='On a blustery autumn evening five old friends met in the backroom of one of the city’s oldest and most private clubs. Each had\\ntraveled a long distance — from all corners of the world — to meet on this very specific day… October 2, 1900 — 28 years to the\\nday that the London eccentric, Phileas Fogg accepted and then won a £20,000 bet that he could travel Around the World in 80 Days . \\nWhen the story of Fogg’s triumphant journey filled all the newspapers of the day, the five attended University together. Inspired by\\nhis impetuous gamble, and a few pints from the local pub, the group commemorated his circumnavigation with a more modest excur-sion and wager – a bottle of good claret to the first to make it to Le Procope in Paris.\\nEach succeeding year, they met to celebrate the anniversary and pay tribute to Fogg. And each year a new expedition (always mor e'), Document(metadata={'source': './TO_EMBED\\\\ticket_to_ride.pdf', 'page': 0, 'chunk_id': 'ticket_to_ride.pdf_p0_c2', 'chunk_number': 2}, page_content='Each succeeding year, they met to celebrate the anniversary and pay tribute to Fogg. And each year a new expedition (always mor e\\ndifficult) with a new wager (always more expensive) was proposed. Now at the dawn of the century it was time for a new impossi-ble journey. The stakes: $1 Million in a winner-takes-all competition. The objective: to see which of them could travel by rail to themost cities in North America — in just 7 days. The journey would begin immediately…\\nTicket to Ride is a cross-country train adventure. Players compete to connect different cities by laying claim to railway routes on a\\nmap of North America.\\nFor 2 - 5 players \\nages 8 and above\\n30 - 60 minutes[T2R] rules EN reprint 2015_TTR2 rules US  06/03/15  17:36  Page2'), Document(metadata={'source': './TO_EMBED\\\\ticket_to_ride.pdf', 'page': 1, 'chunk_id': 'ticket_to_ride.pdf_p1_c1', 'chunk_number': 1}, page_content='Components \\nu1 Board map of North American train routes\\nu 240 Colored Train Cars (45 each in Blue, Red, Green, Yellow and Black, plus some extra replacement cars in each color)\\nu 144 Illustrated cards:\\n- 1 Promotional card for additional maps\\n- 1 Days of Wonder Promotional card\\nu  5 Wooden Scoring Markers (1 for each player in Blue, Red, Green, Yellow \\nand Black)\\nu  1 Rules booklet\\nu  1 Days of Wonder Online access number\\nSetting up the Game\\nPlace the board map in the center of the table. Each player takes a set of 45 Colored\\nTrain Cars along with its matching Scoring Marker. Each player places his ScoringMarker on Start \\n∂ on the Scoring Track running along the map’s border. Throughout\\nthe game, each time a player scores points, he will advance his marker accordingly.\\nShuffle the Train Car cards and deal a starting hand of 4 cards to each player ∑.\\nPlace the remaining deck of Train Car cards near the board and turn the top five cards\\nfrom the deck face-up ∏.'), Document(metadata={'source': './TO_EMBED\\\\ticket_to_ride.pdf', 'page': 1, 'chunk_id': 'ticket_to_ride.pdf_p1_c2', 'chunk_number': 2}, page_content='Shuffle the Train Car cards and deal a starting hand of 4 cards to each player ∑.\\nPlace the remaining deck of Train Car cards near the board and turn the top five cards\\nfrom the deck face-up ∏.\\nPlace the Longest Path Bonus card face up next to the board π. \\nShuffle the Destination Ticket cards and deal 3 cards to each player ∫. Each player\\nlooks at their Destination Tickets and decides which ones they wish to keep. A playermust keep at least two, but may keep all three if he chooses. Any returned cards areplaced on the bottom of the Destination Ticket deck. This deck is then placed next to theboard \\nª. Players keep their Destination Tickets secret until the end of the game.\\nYou are now ready to begin.\\nObject of the Game \\nThe object of the game is to score the highest number of total points. Points can bescored by: \\nuClaiming a Route between two adjacent cities on the map; \\nu Successfully completing a Continuous Path of routes between two cities listed on your Destination Ticket(s);'), Document(metadata={'source': './TO_EMBED\\\\ticket_to_ride.pdf', 'page': 1, 'chunk_id': 'ticket_to_ride.pdf_p1_c3', 'chunk_number': 3}, page_content='uClaiming a Route between two adjacent cities on the map; \\nu Successfully completing a Continuous Path of routes between two cities listed on your Destination Ticket(s);\\nu Completing the Longest Continuous Path of routes.\\nPoints are lost if you do not successfully complete the route given on the Destination Ticket(s) you kept.\\nT he Game T urn\\nThe player who is the most experienced traveler goes first. Play then proceeds clockwise around the table, each player taking one turn at a time untilthe game ends. On his turn, a player must perform one (and only one) of the following three actions:∂∑ ∫\\n∑\\n∫\\n∑ ∫110 Train Car cards (12 each of Box, Passenger, Tanker, Reefer, Freight, Hopper, Coal, and Caboose cars, plus 14 Locomotives)\\n30 Destination Ticket cards1 Summary\\ncard\\n1 Longest Continuous Path\\nBonus card\\n[T2R] rules EN reprint 2015_TTR2 rules US  06/03/15  17:36  Page3'), Document(metadata={'source': './TO_EMBED\\\\ticket_to_ride.pdf', 'page': 2, 'chunk_id': 'ticket_to_ride.pdf_p2_c1', 'chunk_number': 1}, page_content='Draw Train Car Cards – The player may draw 2 Train Car cards. He may take any one of the face-up cards or he may draw the top card from the\\ndeck (this is a blind draw). If he draws a face up card, he immediately turns a replacement card face-up from the deck. He then draws his second\\ncard, either from the face up cards or from the top of the deck. (See Train Car Cards for special rules for Locomotive cards).\\nClaim a Route – The player may claim a route on the board by playing a set of Train Car cards that match the color and length of the route and\\nthen placing one of his colored trains on each space of this route. He then records his score by moving his Scoring Marker the appropriate number\\nof spaces (see Route Scoring Table) along the Scoring Track on the board.\\nDraw Destination Tickets – The player draws 3 Destination Tickets from the top of the deck. He must keep at least one of them, but he may keep'), Document(metadata={'source': './TO_EMBED\\\\ticket_to_ride.pdf', 'page': 2, 'chunk_id': 'ticket_to_ride.pdf_p2_c2', 'chunk_number': 2}, page_content='Draw Destination Tickets – The player draws 3 Destination Tickets from the top of the deck. He must keep at least one of them, but he may keep\\ntwo or all three if he chooses. Any returned cards are placed on the bottom of the deck.\\nT rain Car Cards\\nThere are 8 types of regular Train Car cards, plus Locomotive cars. The colors of each type of Train Car card match various rou tes\\nbetween cities on the board – Purple, Blue, Orange, White, Green, Yellow, Black, and\\nRed. \\nLocomotives are Multi-colored and act as a wild card that can be part of any set of\\ncards when claiming a route. If a Locomotive card is one of the five face-up cards , the\\nplayer who draws it may only draw one card, instead of two. If, after having drawn one\\ncard the replacement card is a Locomotive, the player cannot take it. If at any time, three\\nof the five face-up cards are Locomotives, all five cards are immediately discarded and\\nfive new ones are turned face-up to replace them.'), Document(metadata={'source': './TO_EMBED\\\\ticket_to_ride.pdf', 'page': 2, 'chunk_id': 'ticket_to_ride.pdf_p2_c3', 'chunk_number': 3}, page_content='of the five face-up cards are Locomotives, all five cards are immediately discarded and\\nfive new ones are turned face-up to replace them. \\nNote: If a player is lucky enough to get a Locomotive from the top of the deck in a blind\\ndraw, it stills counts as a single card and he may still draw a total of two cards that turn.\\nA player may have any number of cards in his hand at any time.\\nWhen the deck is exhausted, the discards are reshuffled into a new draw pile deck. The\\ncards should be shuffled thoroughly, since all the cards have been discarded in sets.\\nIn the unlikely event that there are no cards left in the deck and there are no discards\\n(because players are hoarding many cards in their hands), a player cannot draw Train\\nCar cards. Instead he may only claim a route or draw Destination Ticket cards.\\nClaiming Routes\\nTo claim a route, a player must play a set of cards equal to the number of spaces in the'), Document(metadata={'source': './TO_EMBED\\\\ticket_to_ride.pdf', 'page': 2, 'chunk_id': 'ticket_to_ride.pdf_p2_c4', 'chunk_number': 4}, page_content='Car cards. Instead he may only claim a route or draw Destination Ticket cards.\\nClaiming Routes\\nTo claim a route, a player must play a set of cards equal to the number of spaces in the\\nroute. A set of cards must be of the same type. Most routes require a specific type of set.\\nFor example a Blue route must be claimed using blue-colored Passenger Car cards. Some\\nroutes – those that are Gray colored – can be claimed using a set of cards of any one color.\\nWhen a route is claimed, the player places one of his plastic trains in each of the spaces\\nof the route. All the cards in the set used to claim the route are then discarded.\\nA player may claim any open route on the board. He is never required to\\nconnect to any of his previously played routes. A player may only claima maximum of one route, hence connect two adjacent cities, never more,on his turn.\\nSome cities are connected by Double-Routes . One player cannot claim'), Document(metadata={'source': './TO_EMBED\\\\ticket_to_ride.pdf', 'page': 2, 'chunk_id': 'ticket_to_ride.pdf_p2_c5', 'chunk_number': 5}, page_content='Some cities are connected by Double-Routes . One player cannot claim\\nboth routes to the same cities. Important Note: In 2 or 3 player games, only one of the Double-Routes\\ncan be used. A player can claim either of the two routes between cities, but\\nthe other route is then closed to other players.∫ ∑\\n∑∫\\nπ\\n∏ ª\\nTo claim the route from Montréal \\nto Toronto, a player could use any\\nset of Train Car cards, as a long \\nas they are the same type.Example 2\\nTo claim the route from Montréal\\nto New York, a player would need \\na set of three Blue Passenger \\nCar cards. Example 1[T2R] rules EN reprint 2015_TTR2 rules US  06/03/15  17:36  Page4'), Document(metadata={'source': './TO_EMBED\\\\ticket_to_ride.pdf', 'page': 3, 'chunk_id': 'ticket_to_ride.pdf_p3_c1', 'chunk_number': 1}, page_content='Route Scoring T able\\nWhen a player claims a route, he records the points he receives by\\nmoving his Scoring Marker on the Scoring Track:\\nDrawing Destination T icket Cards\\nA player can use his turn to draw more Destination Ticket cards. To do so, he draws 3 new cards from the top of the Destination Ticket Deck. He mustkeep at least one of the cards, but may also keep two or all three if he chooses. If there are less than 3 Destination Tickets left in the deck, the playeronly draws the cards that are available. Any returned cards are placed on the bottom of the Destination Ticket Deck.\\nEach Destination Ticket includes the name of two cities on the map and a Point Value. If a player successfully completes a series of routes that connect\\nthe two cities, they will add the amount of points indicated on the Destination Ticket to their point totals at the end of the game. If they do not\\nsuccessfully connect the two cities, they deduct the amount of points indicated.'), Document(metadata={'source': './TO_EMBED\\\\ticket_to_ride.pdf', 'page': 3, 'chunk_id': 'ticket_to_ride.pdf_p3_c2', 'chunk_number': 2}, page_content=\"successfully connect the two cities, they deduct the amount of points indicated.\\nDestination Tickets are kept secret from other players until the game's final scoring. A player may have any number of Destination Ticket cards duringthe game.\\nGame End\\nWhen one player’s stock of colored plastic trains gets down to only 0,1 or 2 trains left at the end of his turn, each player, including that player, getsone final turn. The game then ends and players calculate their final scores. \\nCalculating Scores\\nPlayers should have already accounted for the points earned as they completed different routes. To make sure no mistakes were made, you maywant to re-count the points for each player’s routes.\\nPlayers should then reveal all their Destination Tickets and add (or subtract) the value of their Destination Tickets still in hand, based on whether\\nthey successfully (or not) connected those cities together.\"), Document(metadata={'source': './TO_EMBED\\\\ticket_to_ride.pdf', 'page': 3, 'chunk_id': 'ticket_to_ride.pdf_p3_c3', 'chunk_number': 3}, page_content='they successfully (or not) connected those cities together.\\nThe player who has the Longest Continuous Path of routes receives this special bonus card and adds 10 points to his score. When evaluating and\\ncomparing path lengths, only take into account continuous lines of plastic trains of the same color. A continuous path may include loops, and passthrough the same city several times, but a given plastic train may never be used twice in the same continuous path. In the case of a tie for the longestpath, all tied players score the 10 point bonus.\\nThe player with the most points wins the game. If two or more players are tied for the most points, the player who has completed the most Destination\\nTickets wins. In the unlikely event that they are still tied, the player with the Longest Continuous Path card wins.\\n1Route Length Points Scored\\n2\\n3\\n4\\n5\\n61\\n2\\n4\\n7\\n10\\n15\\nCREDITS\\nGame design by Alan R. Moon \\nIllustrations by Julien Delval\\nGraphic Design by Cyrille Daujean'), Document(metadata={'source': './TO_EMBED\\\\ticket_to_ride.pdf', 'page': 3, 'chunk_id': 'ticket_to_ride.pdf_p3_c4', 'chunk_number': 4}, page_content='1Route Length Points Scored\\n2\\n3\\n4\\n5\\n61\\n2\\n4\\n7\\n10\\n15\\nCREDITS\\nGame design by Alan R. Moon \\nIllustrations by Julien Delval\\nGraphic Design by Cyrille Daujean \\nA special thanks from Alan and DoW to all \\nthose who helped play test the game: \\nPhil Alberg, Buzz Aldrich, Dave & Jenn Bernazzani, \\nPitt Crandlemire, Terry Egan, Brian Fealy, Dave Fontes,\\nMatt Horn, Craig Massey,  Janet Moon, \\nMark Noseworthy, Mike Schloth, Eric Schultz, \\nScott Simon, Rob Simons, Adam Smiles, Tony Soltis, \\nRichard Spoonts, Brian Stormont, Rick Thornquist\\nDays of Wonder, the Days of Wonder logo, Ticket to Ride - \\nthe boardgame and Ticket to Ride Europe are all trademarks or \\nregistered trademarks of Days of Wonder, Inc. and copyrights © \\n2004-2015 Days of Wonder, Inc. All Rights Reserved.\\nWWW.DAYSOFWONDER.COMRegister your boardgameDays of Wonder Online \\nHere is your train ticket to Days of Wonder\\nOnline - The online board game\\ncommunity where ALL your friends play!\\nRegister your game at'), Document(metadata={'source': './TO_EMBED\\\\ticket_to_ride.pdf', 'page': 3, 'chunk_id': 'ticket_to_ride.pdf_p3_c5', 'chunk_number': 5}, page_content='Here is your train ticket to Days of Wonder\\nOnline - The online board game\\ncommunity where ALL your friends play!\\nRegister your game at\\nwww.daysofwonder.com to receive online\\ndiscounts and discover a web site full of\\ngame variants, additional maps and more.\\nSimply click on the New Player button\\nand follow the instructions.\\n[T2R] rules EN reprint 2015_TTR2 rules US  06/03/15  17:36  Page1')]\n"
     ]
    }
   ],
   "source": [
    "\n",
    "print(chunked_docs)\n",
    "\n"
   ]
  }
 ],
 "metadata": {
  "kernelspec": {
   "display_name": "venv",
   "language": "python",
   "name": "python3"
  },
  "language_info": {
   "codemirror_mode": {
    "name": "ipython",
    "version": 3
   },
   "file_extension": ".py",
   "mimetype": "text/x-python",
   "name": "python",
   "nbconvert_exporter": "python",
   "pygments_lexer": "ipython3",
   "version": "3.10.0"
  }
 },
 "nbformat": 4,
 "nbformat_minor": 2
}
